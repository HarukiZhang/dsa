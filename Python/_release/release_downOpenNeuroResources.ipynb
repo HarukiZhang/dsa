{
    "cells": [
        {
            "cell_type": "code",
            "execution_count": 2,
            "source": [
                "# set up url;\r\n",
                "\r\n",
                "'URL example'\r\n",
                "# json\r\n",
                "'https://openneuro.org/crn/datasets/ds000241/snapshots/00002/files/sub-02:sub-02_task-ak6_bold.json'\r\n",
                "# anat\r\n",
                "'https://openneuro.org/crn/datasets/ds000241/snapshots/00002/files/sub-02:anat:sub-02_T1w.nii.gz'\r\n",
                "# func\r\n",
                "'https://openneuro.org/crn/datasets/ds000241/snapshots/00002/files/sub-02:func:sub-02_task-ak6_run-01_bold.nii.gz'\r\n",
                "'https://openneuro.org/crn/datasets/ds000241/snapshots/00002/files/sub-02:func:sub-02_task-ak6_run-01_events.tsv'\r\n",
                "\r\n",
                "def setURL():\r\n",
                "    hopa = 'https://openneuro.org/crn/datasets/ds000241/snapshots/00002/files/'\r\n",
                "    url_lst = []\r\n",
                "    for i in range(1,12):\r\n",
                "        imlst = []\r\n",
                "        subj = 'sub-{:0>2d}'.format(i)\r\n",
                "        url_json = hopa + subj + ':' + subj + '_task-ak6_bold.json'\r\n",
                "        url_anat = hopa + subj + ':anat:' + subj + '_T1w.nii.gz'\r\n",
                "        imlst.append(url_json)\r\n",
                "        imlst.append(url_anat)\r\n",
                "        for k in range(1,11):\r\n",
                "            url_func_bold = hopa + subj + ':func:' + subj + '_task-ak6_run-{:0>2d}_bold.nii.gz'.format(k)\r\n",
                "            url_func_even = hopa + subj + ':func:' + subj + '_task-ak6_run-{:0>2d}_events.tsv'.format(k)\r\n",
                "            imlst.append(url_func_bold)\r\n",
                "            imlst.append(url_func_even)\r\n",
                "        url_lst.append(imlst)\r\n",
                "    return url_lst"
            ],
            "outputs": [],
            "metadata": {}
        },
        {
            "cell_type": "code",
            "execution_count": 3,
            "source": [
                "def getPDFdown(d_url,d_path):\r\n",
                "    import requests as rq\r\n",
                "    try:\r\n",
                "        html=rq.get(d_url,headers={\"user-agent\":\"chrome/10\"},timeout=30)\r\n",
                "        html.raise_for_status() # If status != 200, raise Error\r\n",
                "    except:\r\n",
                "        stts = (-1, 'get_PDF_down Error @ request')\r\n",
                "    else:\r\n",
                "        try:\r\n",
                "            with open(d_path,\"wb\") as f:\r\n",
                "                f.write(html.content)\r\n",
                "                f.close()\r\n",
                "        except:\r\n",
                "            stts = (0, 'get_PDF_down Error @ filesaving')\r\n",
                "        else:\r\n",
                "            stts = (1, 'get_PDF_down Success!')\r\n",
                "    return stts"
            ],
            "outputs": [],
            "metadata": {}
        },
        {
            "cell_type": "code",
            "execution_count": 4,
            "source": [
                "url_lst = setURL()"
            ],
            "outputs": [],
            "metadata": {}
        },
        {
            "cell_type": "code",
            "execution_count": 11,
            "source": [
                "# DONT USE THIS\r\n",
                "# download all from subj01 - 11\r\n",
                "root = 'E:/Downloads/OpenNeuro/AK6/'\r\n",
                "chklst = []\r\n",
                "for lst in url_lst:\r\n",
                "    imlstr = []\r\n",
                "    for url in lst:\r\n",
                "        filename = url.split(':')[-1]\r\n",
                "        path = root + filename\r\n",
                "        stts = getPDFdown(url,path)\r\n",
                "        imlstr.append(stts)\r\n",
                "    chklst.append(imlstr)"
            ],
            "outputs": [],
            "metadata": {}
        },
        {
            "cell_type": "code",
            "execution_count": 6,
            "source": [
                "# by subj download\r\n",
                "root = 'E:/Downloads/OpenNeuro/AK6/'\r\n",
                "chklst0 = []\r\n",
                "lst0 = url_lst[0]\r\n",
                "for url in lst0[10:]:\r\n",
                "    filename = url.split(':')[-1]\r\n",
                "    path = root + filename\r\n",
                "    stts = getPDFdown(url,path)\r\n",
                "    chklst0.append(stts)"
            ],
            "outputs": [],
            "metadata": {}
        }
    ],
    "metadata": {
        "orig_nbformat": 4,
        "language_info": {
            "name": "python",
            "version": "3.9.6",
            "mimetype": "text/x-python",
            "codemirror_mode": {
                "name": "ipython",
                "version": 3
            },
            "pygments_lexer": "ipython3",
            "nbconvert_exporter": "python",
            "file_extension": ".py"
        },
        "kernelspec": {
            "name": "python3",
            "display_name": "Python 3.9.6 64-bit"
        },
        "interpreter": {
            "hash": "4f8763616d36299a7e67065bbff61b4594b946871d4c1b06c8acd4b8a7e0d76f"
        }
    },
    "nbformat": 4,
    "nbformat_minor": 2
}