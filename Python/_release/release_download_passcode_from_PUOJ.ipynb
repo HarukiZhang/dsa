{
 "cells": [
  {
   "cell_type": "code",
   "execution_count": 1,
   "metadata": {},
   "outputs": [],
   "source": [
    "#【主要用这里就行】用有规律的url和cookies直接下载了所有的通过码\n",
    "import requests\n",
    "\n",
    "headers = {\n",
    "    \"User-Agent\":\"Mozilla/5.0 (Windows NT 10.0; Win64; x64) AppleWebKit/537.36 (KHTML, like Gecko) Chrome/94.0.4606.71 Safari/537.36\",\n",
    "}\n",
    "member_url = \"http://cxsjsxmooc.openjudge.cn/2021t3fall/download/acckey?problem_id=\"\n",
    "\n",
    "cookies = {\n",
    "    \"PHPSESSID\":\"39nngmo32jmeq06uqd2hgc7dtk\",\n",
    "    \"Hm_lvt_cba6845c6d8176f123f81538e1796b8a\":\"1638544474,1638596510,1638680860,1638691047\",\n",
    "    \"Hm_lpvt_cba6845c6d8176f123f81538e1796b8a\":\"1638708219\"\n",
    "}\n",
    "\n",
    "'''\n",
    "http://cxsjsxmooc.openjudge.cn/2021t3fall/download/acckey?problem_id=014\n",
    "PHPSESSID=39nngmo32jmeq06uqd2hgc7dtk; \n",
    "Hm_lvt_cba6845c6d8176f123f81538e1796b8a=1638544474,1638596510,1638680860,1638691047; \n",
    "Hm_lpvt_cba6845c6d8176f123f81538e1796b8a=1638708219\n",
    "'''\n",
    "\n",
    "reslst = []\n",
    "for i in range(14,46):\n",
    "    quest_num = f'{i:0>3d}'\n",
    "    try:\n",
    "        r = requests.get(\n",
    "            member_url + quest_num,\n",
    "            headers = headers,\n",
    "            cookies = cookies,\n",
    "            timeout = 30\n",
    "        )\n",
    "        r.raise_for_status()\n",
    "    except:\n",
    "        reslst.append([f'{i:0>3d}', 'error'])\n",
    "        print(f\"{i:0>3d}: Error occurred\")\n",
    "    else:\n",
    "        reslst.append([f'{i:0>3d}', r.content.decode('utf-8')])"
   ]
  },
  {
   "cell_type": "code",
   "execution_count": 2,
   "metadata": {},
   "outputs": [],
   "source": [
    "# 将上面存到excel里\n",
    "import pandas as pd\n",
    "dtfm_4sv = pd.DataFrame(reslst)\n",
    "dtfm_4sv.to_excel('acckey_lst.xlsx')"
   ]
  },
  {
   "cell_type": "code",
   "execution_count": null,
   "metadata": {},
   "outputs": [],
   "source": [
    "#用美丽汤解析并存储，没用了\n",
    "from bs4 import BeautifulSoup\n",
    "import pandas as pd\n",
    "\n",
    "urllst = []\n",
    "for page in range(1,5):\n",
    "    with open(f'../Data/try_puoj_p{page}.html','r',encoding=\"utf-8\") as f:\n",
    "        html = f.read()\n",
    "        soup= BeautifulSoup(html,'html.parser')\n",
    "    findlst = soup.find_all(attrs={'class':'result-right'}, string='Accepted')\n",
    "\n",
    "\n",
    "    for item in findlst:\n",
    "        urllst.append(item.get(\"href\"))\n",
    "\n",
    "dtfm_forsave = pd.DataFrame(urllst)\n",
    "dtfm_forsave.to_excel('oj_urllst.xlsx')"
   ]
  },
  {
   "cell_type": "code",
   "execution_count": null,
   "metadata": {},
   "outputs": [],
   "source": [
    "# 记录一下各种解析方法方法，但是没用上\n",
    "from bs4 import BeautifulSoup\n",
    "from lxml import etree\n",
    "\n",
    "soup = BeautifulSoup(r.content.decode('utf-8'), 'html.parser')\n",
    "link_passcode = soup.find(name='a', string='下载通过码文件').get(\"href\")\n",
    "\n",
    "h_etree = etree.HTML(r.content.decode('utf-8'))\n",
    "elem:list = h_etree.xpath('//*[@id=\"side\"]/div/dl/dd[2]/a')\n",
    "title = etree.tostring(elem[0], method='text', encoding='utf-8').decode('utf-8')\n",
    "elem:list = h_etree.xpath('//*[@id=\"side\"]/div/dl/dd[6]/a')\n",
    "lang = etree.tostring(elem[0], method='text', encoding='utf-8').decode('utf-8')"
   ]
  },
  {
   "cell_type": "code",
   "execution_count": null,
   "metadata": {},
   "outputs": [],
   "source": [
    "# 最开始用来爬取各个题目solution页面的url，但发现其实有规律，所以用不着了\n",
    "import requests\n",
    "\n",
    "headers = {\n",
    "    \"User-Agent\":\"Mozilla/5.0 (Windows NT 10.0; Win64; x64) AppleWebKit/537.36 (KHTML, like Gecko) Chrome/94.0.4606.71 Safari/537.36\",\n",
    "}\n",
    "member_url = \"http://openjudge.cn/user/1148994/?page=\"\n",
    "\n",
    "cookies = {\n",
    "    \"PHPSESSID\":\"hlpol8fufqlc802g1c1u1s8du2\",\n",
    "    \"Hm_lvt_cba6845c6d8176f123f81538e1796b8a\":\"1633349213,1633402340,1633497958,1633842993\",\n",
    "    \"Hm_lpvt_cba6845c6d8176f123f81538e1796b8a\":\"1633866128\"\n",
    "}\n",
    "\n",
    "for page in range(3,5):\n",
    "    try:\n",
    "        r = requests.get(\n",
    "            member_url + f'{page}', \n",
    "            headers = headers, \n",
    "            cookies = cookies,\n",
    "            timeout = 30\n",
    "        )\n",
    "        r.raise_for_status()\n",
    "    except:\n",
    "        print(\"Error occurred\")\n",
    "    else:\n",
    "        print(\"HTML text getting is complete.\")\n",
    "        r.encoding = r.apparent_encoding\n",
    "        with open(f'../Data/try_puoj_p{page}.html', 'w', encoding='utf-8') as f:\n",
    "            f.write(r.content.decode(\"utf-8\"))\n",
    "            f.close()"
   ]
  }
 ],
 "metadata": {
  "interpreter": {
   "hash": "4f8763616d36299a7e67065bbff61b4594b946871d4c1b06c8acd4b8a7e0d76f"
  },
  "kernelspec": {
   "display_name": "Python 3.9.6 64-bit",
   "name": "python3"
  },
  "language_info": {
   "codemirror_mode": {
    "name": "ipython",
    "version": 3
   },
   "file_extension": ".py",
   "mimetype": "text/x-python",
   "name": "python",
   "nbconvert_exporter": "python",
   "pygments_lexer": "ipython3",
   "version": "3.9.6"
  },
  "orig_nbformat": 4
 },
 "nbformat": 4,
 "nbformat_minor": 2
}
