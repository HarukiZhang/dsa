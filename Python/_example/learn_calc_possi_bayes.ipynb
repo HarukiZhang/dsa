{
    "cells": [
        {
            "cell_type": "code",
            "execution_count": 9,
            "source": [
                "pa = 0.4\r\n",
                "pb = 0.5\r\n",
                "pc = 0.7\r\n",
                "pc1 = 0.2\r\n",
                "pc2 = 0.6\r\n",
                "pc3 = 1\r\n",
                "p1 = pa*(1-pb)*(1-pc) + pb*(1-pa)*(1-pc) + pc*(1-pa)*(1-pb)\r\n",
                "p2 = pa*pb + pa*pc + pb*pc - 3*pa*pb*pc\r\n",
                "p3 = pa*pb*pc\r\n",
                "p0 = 1 - p1 - p2 - p3\r\n",
                "pcrash = pc1*p1 + pc2*p2 + pc3*p3\r\n",
                "# Event S = hit by 1 at condition crashed\r\n",
                "p_h1c = p1 * pc1 / pcrash\r\n",
                "p_h2c = p2 * pc2 / pcrash\r\n",
                "p_h3c = p3 * pc3 / pcrash\r\n",
                "print('possi.<crash>: {:.2f}%\\n\\\r\n",
                "possi.<hit by 1 when crashed>: {:.2F}%\\n\\\r\n",
                "possi.<hit by 2 when crashed>: {:.2F}%\\n\\\r\n",
                "possi.<hit by 3 when crashed>: {:.2F}%'.format(pcrash*100,p_h1c*100,p_h2c*100,p_h3c*100))"
            ],
            "outputs": [
                {
                    "output_type": "stream",
                    "name": "stdout",
                    "text": [
                        "possi.<crash>: 45.80%\n",
                        "possi.<hit by 1 when crashed>: 15.72%\n",
                        "possi.<hit by 2 when crashed>: 53.71%\n",
                        "possi.<hit by 3 when crashed>: 30.57%\n"
                    ]
                }
            ],
            "metadata": {}
        }
    ],
    "metadata": {
        "orig_nbformat": 4,
        "language_info": {
            "name": "python",
            "version": "3.9.6",
            "mimetype": "text/x-python",
            "codemirror_mode": {
                "name": "ipython",
                "version": 3
            },
            "pygments_lexer": "ipython3",
            "nbconvert_exporter": "python",
            "file_extension": ".py"
        },
        "kernelspec": {
            "name": "python3",
            "display_name": "Python 3.9.6 64-bit"
        },
        "interpreter": {
            "hash": "4f8763616d36299a7e67065bbff61b4594b946871d4c1b06c8acd4b8a7e0d76f"
        }
    },
    "nbformat": 4,
    "nbformat_minor": 2
}