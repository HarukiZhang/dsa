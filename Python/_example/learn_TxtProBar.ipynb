{
 "metadata": {
  "language_info": {
   "codemirror_mode": {
    "name": "ipython",
    "version": 3
   },
   "file_extension": ".py",
   "mimetype": "text/x-python",
   "name": "python",
   "nbconvert_exporter": "python",
   "pygments_lexer": "ipython3",
   "version": "3.9.6"
  },
  "orig_nbformat": 4,
  "kernelspec": {
   "name": "python3",
   "display_name": "Python 3.9.6 64-bit"
  },
  "interpreter": {
   "hash": "4f8763616d36299a7e67065bbff61b4594b946871d4c1b06c8acd4b8a7e0d76f"
  }
 },
 "nbformat": 4,
 "nbformat_minor": 2,
 "cells": [
  {
   "cell_type": "code",
   "execution_count": 40,
   "source": [
    "import time as t\r\n",
    "sc=50\r\n",
    "sct=sc+13\r\n",
    "print(\"Process Start\".center(sct,'='))\r\n",
    "start=t.perf_counter()\r\n",
    "for i in range(sc+1):\r\n",
    "    a='*' * i\r\n",
    "    b='.' * (sc-i)\r\n",
    "    per=int(i/sc*100)\r\n",
    "    dur=t.perf_counter()-start    \r\n",
    "    print(\"\\r{:^3d}%[{}->{}]{:.1f}s\".format(per,a,b,dur),end='')\r\n",
    "    t.sleep(0.09)\r\n",
    "print(\"\\n\"+\"Process Complete\".center(sct,'='))"
   ],
   "outputs": [
    {
     "output_type": "stream",
     "name": "stdout",
     "text": [
      "=======================Process Start========================\n",
      "100%[**************************************************->]4.7s\n",
      "======================Process Complete======================\n"
     ]
    }
   ],
   "metadata": {}
  }
 ]
}