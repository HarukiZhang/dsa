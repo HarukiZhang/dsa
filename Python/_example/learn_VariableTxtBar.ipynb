{
 "metadata": {
  "language_info": {
   "codemirror_mode": {
    "name": "ipython",
    "version": 3
   },
   "file_extension": ".py",
   "mimetype": "text/x-python",
   "name": "python",
   "nbconvert_exporter": "python",
   "pygments_lexer": "ipython3",
   "version": "3.9.6"
  },
  "orig_nbformat": 4,
  "kernelspec": {
   "name": "python3",
   "display_name": "Python 3.9.6 64-bit"
  },
  "interpreter": {
   "hash": "4f8763616d36299a7e67065bbff61b4594b946871d4c1b06c8acd4b8a7e0d76f"
  }
 },
 "nbformat": 4,
 "nbformat_minor": 2,
 "cells": [
  {
   "cell_type": "code",
   "execution_count": 3,
   "source": [
    "# Early Pause Curve: f(x)=x-(1-sin(x*pi*2+pi/2)/8\r\n",
    "import math as mt\r\n",
    "import time as tm\r\n",
    "def fun(x):\r\n",
    "    y=x-(1-mt.sin(x*2*mt.pi+mt.pi/2))/8\r\n",
    "    return y\r\n",
    "\r\n",
    "sc=100\r\n",
    "print(\"Start\".center(sc,\"=\"))\r\n",
    "st=tm.perf_counter()\r\n",
    "for i in range(sc+1):\r\n",
    "    per_f=(i/sc)\r\n",
    "    expl=fun(per_f)*100\r\n",
    "    expl_int=int(expl)\r\n",
    "    a=\"*\"*expl_int\r\n",
    "    b=\".\"*(sc-expl_int)\r\n",
    "    dur=tm.perf_counter()-st\r\n",
    "    print(\"\\r{0:^3.0f}%[{1}->{2}]{3:.2f}s\".format(expl,a,b,dur),end=\"\")\r\n",
    "    tm.sleep(0.3)\r\n",
    "print(\"\\n\"+\"Complete\".center(sc,\"=\"))"
   ],
   "outputs": [
    {
     "output_type": "stream",
     "name": "stdout",
     "text": [
      "===============================================Start================================================\n",
      "100%[****************************************************************************************************->]60.74s\n",
      "==============================================Complete==============================================\n"
     ]
    }
   ],
   "metadata": {}
  }
 ]
}