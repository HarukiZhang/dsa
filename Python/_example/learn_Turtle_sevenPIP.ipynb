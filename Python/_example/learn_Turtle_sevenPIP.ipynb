{
 "metadata": {
  "language_info": {
   "codemirror_mode": {
    "name": "ipython",
    "version": 3
   },
   "file_extension": ".py",
   "mimetype": "text/x-python",
   "name": "python",
   "nbconvert_exporter": "python",
   "pygments_lexer": "ipython3",
   "version": "3.9.6"
  },
  "orig_nbformat": 4,
  "kernelspec": {
   "name": "python3",
   "display_name": "Python 3.9.6 64-bit"
  },
  "interpreter": {
   "hash": "4f8763616d36299a7e67065bbff61b4594b946871d4c1b06c8acd4b8a7e0d76f"
  }
 },
 "nbformat": 4,
 "nbformat_minor": 2,
 "cells": [
  {
   "cell_type": "code",
   "execution_count": 1,
   "source": [
    "import turtle as t\r\n",
    "\r\n",
    "def drawLine(draw=True):\r\n",
    "    t.pd() if draw else t.pu()\r\n",
    "    t.fd(15)\r\n",
    "    t.pu()\r\n",
    "\r\n",
    "def corner(direction):\r\n",
    "    t.pu()\r\n",
    "    t.fd(3)\r\n",
    "    t.seth(direction)\r\n",
    "    t.fd(3)\r\n",
    "    t.pd()\r\n",
    "\r\n",
    "def drawDigit(digit=int):\r\n",
    "    t.pensize(2)\r\n",
    "    t.pu(); t.seth(270); t.fd(3); t.pd()\r\n",
    "    drawLine(1 if digit in [0,1,3,4,5,6,7,8,9] else 0)\r\n",
    "    corner(180)\r\n",
    "    drawLine(1 if digit in [0,2,3,5,6,8] else 0)\r\n",
    "    corner(90)\r\n",
    "    drawLine(1 if digit in [0,2,6,8] else 0)\r\n",
    "    corner(0)\r\n",
    "    drawLine(1 if digit in [2,3,4,5,6,8,9] else 0)\r\n",
    "    corner(90)\r\n",
    "    drawLine(1 if digit in [0,1,2,3,4,7,8,9] else 0)\r\n",
    "    corner(180)\r\n",
    "    drawLine(1 if digit in [0,2,3,5,6,7,8,9] else 0)\r\n",
    "    corner(270)\r\n",
    "    drawLine(1 if digit in [0,4,5,6,8,9] else 0)\r\n",
    "\r\n",
    "drawDigit(2)"
   ],
   "outputs": [],
   "metadata": {}
  }
 ]
}