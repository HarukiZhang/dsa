{
 "metadata": {
  "language_info": {
   "codemirror_mode": {
    "name": "ipython",
    "version": 3
   },
   "file_extension": ".py",
   "mimetype": "text/x-python",
   "name": "python",
   "nbconvert_exporter": "python",
   "pygments_lexer": "ipython3",
   "version": "3.9.6"
  },
  "orig_nbformat": 4,
  "kernelspec": {
   "name": "python3",
   "display_name": "Python 3.9.6 64-bit"
  },
  "interpreter": {
   "hash": "4f8763616d36299a7e67065bbff61b4594b946871d4c1b06c8acd4b8a7e0d76f"
  }
 },
 "nbformat": 4,
 "nbformat_minor": 2,
 "cells": [
  {
   "cell_type": "code",
   "execution_count": null,
   "source": [
    "daywork_A=1.0\r\n",
    "dlt_A=0.01\r\n",
    "dlt_B=0.01\r\n",
    "begin=5    # use 1 for Mon, 7 for Sun;\r\n",
    "weeks=\"MonTueWedThrFriSatSun\"\r\n",
    "wk_prt=weeks[3*(begin-1):3*(begin-1)+3]"
   ],
   "outputs": [],
   "metadata": {}
  },
  {
   "cell_type": "code",
   "execution_count": null,
   "source": [
    "# Calculate the rate of subj A;\r\n",
    "daywork_A*=(1+dlt_A)**365"
   ],
   "outputs": [],
   "metadata": {}
  },
  {
   "cell_type": "code",
   "execution_count": null,
   "source": [
    "def dayup(x,b):\r\n",
    "    y=1\r\n",
    "    for i in range(b,b+365):\r\n",
    "        if i%7 in [0,6]:\r\n",
    "            y=y*(1-0.01)            \r\n",
    "        else:\r\n",
    "            y=y*(1+x)            \r\n",
    "    return y"
   ],
   "outputs": [],
   "metadata": {}
  },
  {
   "cell_type": "code",
   "execution_count": null,
   "source": [
    "while dayup(dlt_B,begin) < daywork_A:\r\n",
    "    dlt_B += 0.001\r\n",
    "tms=dlt_B/dlt_A"
   ],
   "outputs": [],
   "metadata": {}
  },
  {
   "cell_type": "code",
   "execution_count": null,
   "source": [
    "print(\"After 365 days,\\n\\\r\n",
    "in which the 1st and the Final day will both be a {},\\n\\\r\n",
    "A will enhance {:.2f} times.\\n\\n\\\r\n",
    "While, due to the decreases in weekend,\\n\\\r\n",
    "B will need to work {:.1f} times harder (dayup rate at {:.3f}) than A to catch up with him.\"\\\r\n",
    ".format(wk_prt,daywork_A,tms,dlt_B))"
   ],
   "outputs": [],
   "metadata": {}
  },
  {
   "cell_type": "markdown",
   "source": [
    "Seems the find/replace is not properly functioned."
   ],
   "metadata": {}
  }
 ]
}