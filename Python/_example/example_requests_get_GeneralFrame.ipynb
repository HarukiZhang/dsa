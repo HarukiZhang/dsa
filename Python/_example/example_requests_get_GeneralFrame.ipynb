{
 "metadata": {
  "language_info": {
   "codemirror_mode": {
    "name": "ipython",
    "version": 3
   },
   "file_extension": ".py",
   "mimetype": "text/x-python",
   "name": "python",
   "nbconvert_exporter": "python",
   "pygments_lexer": "ipython3",
   "version": "3.9.6"
  },
  "orig_nbformat": 4,
  "kernelspec": {
   "name": "python3",
   "display_name": "Python 3.9.6 64-bit"
  },
  "interpreter": {
   "hash": "4f8763616d36299a7e67065bbff61b4594b946871d4c1b06c8acd4b8a7e0d76f"
  }
 },
 "nbformat": 4,
 "nbformat_minor": 2,
 "cells": [
  {
   "cell_type": "code",
   "execution_count": null,
   "source": [
    "import requests as rq\r\n",
    "\r\n",
    "def getHTMLtext(url):\r\n",
    "    try:\r\n",
    "        hd={'user-agent':'chrome/10'}\r\n",
    "        r=rq.get(url,headers=hd,timeout=30)\r\n",
    "        r.raise_for_status() # If status != 200, cause HTTPError\r\n",
    "        r.encoding=r.apparent_encoding\r\n",
    "        return r\r\n",
    "    except:\r\n",
    "        return \"Error occurred\"\r\n",
    "\r\n",
    "if __name__==\"__main__\":\r\n",
    "    url=\"https://item.jd.com/100009070561.html\"\r\n",
    "    rt=getHTMLtext(url)\r\n",
    "    if rt != \"Error occurred\":\r\n",
    "        print(\"HTML text getting is complete.\")\r\n",
    "    else:\r\n",
    "        print(rt)"
   ],
   "outputs": [],
   "metadata": {}
  },
  {
   "cell_type": "code",
   "execution_count": null,
   "source": [
    "print(rt.text)"
   ],
   "outputs": [],
   "metadata": {}
  }
 ]
}