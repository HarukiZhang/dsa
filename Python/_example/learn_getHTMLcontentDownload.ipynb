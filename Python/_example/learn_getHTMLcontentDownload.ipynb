{
 "metadata": {
  "language_info": {
   "codemirror_mode": {
    "name": "ipython",
    "version": 3
   },
   "file_extension": ".py",
   "mimetype": "text/x-python",
   "name": "python",
   "nbconvert_exporter": "python",
   "pygments_lexer": "ipython3",
   "version": "3.9.6"
  },
  "orig_nbformat": 4,
  "kernelspec": {
   "name": "python3",
   "display_name": "Python 3.9.6 64-bit"
  },
  "interpreter": {
   "hash": "4f8763616d36299a7e67065bbff61b4594b946871d4c1b06c8acd4b8a7e0d76f"
  }
 },
 "nbformat": 4,
 "nbformat_minor": 2,
 "cells": [
  {
   "cell_type": "code",
   "execution_count": 2,
   "source": [
    "# try to get image from website\r\n",
    "# key: when writing media content to fileIO, must use 'wb'\r\n",
    "import requests as rq\r\n",
    "import os\r\n",
    "\r\n",
    "url=\"https://img9.doubanio.com/view/photo/l/public/p2623936924.webp\"\r\n",
    "root=\"D:/haruk/Pictures/\"\r\n",
    "path=root+url.split(\"/\")[-1]\r\n",
    "r=rq.get(url)\r\n",
    "with open(path,\"wb\") as f:\r\n",
    "    f.write(r.content)\r\n",
    "    f.close()"
   ],
   "outputs": [],
   "metadata": {}
  },
  {
   "cell_type": "code",
   "execution_count": null,
   "source": [
    "print(r.content)"
   ],
   "outputs": [],
   "metadata": {}
  }
 ]
}