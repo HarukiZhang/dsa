{
 "metadata": {
  "language_info": {
   "codemirror_mode": {
    "name": "ipython",
    "version": 3
   },
   "file_extension": ".py",
   "mimetype": "text/x-python",
   "name": "python",
   "nbconvert_exporter": "python",
   "pygments_lexer": "ipython3",
   "version": "3.9.6"
  },
  "orig_nbformat": 4,
  "kernelspec": {
   "name": "python3",
   "display_name": "Python 3.9.6 64-bit"
  },
  "interpreter": {
   "hash": "4f8763616d36299a7e67065bbff61b4594b946871d4c1b06c8acd4b8a7e0d76f"
  }
 },
 "nbformat": 4,
 "nbformat_minor": 2,
 "cells": [
  {
   "cell_type": "code",
   "execution_count": null,
   "source": [
    "# early learn code: using request lib to search keyword in Baidu\r\n",
    "# AT PRESENT: this method cannot get response from web\r\n",
    "import requests as rq\r\n",
    "\r\n",
    "def getHTMLsearch(url,keyvalue):\r\n",
    "    try:\r\n",
    "        r=rq.get(url,params=keyvalue,headers={\"user-agent\":\"chrome/10\"},timeout=30)\r\n",
    "        r.raise_for_status() # If status != 200, cause HTTPError\r\n",
    "        r.encoding=r.apparent_encoding\r\n",
    "        return r\r\n",
    "    except:\r\n",
    "        return \"Error occurred\"\r\n",
    "\r\n",
    "if __name__==\"__main__\":\r\n",
    "    url=\"https://www.baidu.com/s\"\r\n",
    "    kv={\"wd\":\"gundamgto\"}\r\n",
    "    rt=getHTMLsearch(url=url, keyvalue=kv)\r\n",
    "    if rt != \"Error occurred\":\r\n",
    "        print(\"HTML text getting is complete.\")\r\n",
    "    else:\r\n",
    "        print(rt)"
   ],
   "outputs": [],
   "metadata": {}
  },
  {
   "cell_type": "code",
   "execution_count": null,
   "source": [
    "print(rt.text)"
   ],
   "outputs": [],
   "metadata": {}
  }
 ]
}