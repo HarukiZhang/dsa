{
 "metadata": {
  "language_info": {
   "codemirror_mode": {
    "name": "ipython",
    "version": 3
   },
   "file_extension": ".py",
   "mimetype": "text/x-python",
   "name": "python",
   "nbconvert_exporter": "python",
   "pygments_lexer": "ipython3",
   "version": "3.9.6"
  },
  "orig_nbformat": 4,
  "kernelspec": {
   "name": "python3",
   "display_name": "Python 3.9.6 64-bit"
  },
  "interpreter": {
   "hash": "4f8763616d36299a7e67065bbff61b4594b946871d4c1b06c8acd4b8a7e0d76f"
  }
 },
 "nbformat": 4,
 "nbformat_minor": 2,
 "cells": [
  {
   "cell_type": "code",
   "execution_count": null,
   "source": [
    "# Uncomplete learn code\r\n",
    "# learn to use requests lib to get web infos\r\n",
    "import requests as rq\r\n",
    "import re\r\n",
    "from bs4 import BeautifulSoup\r\n",
    "\r\n",
    "def getHTML(url):\r\n",
    "    try:\r\n",
    "        hd={'user-agent':'chrome/10'}\r\n",
    "        r=rq.get(url,headers=hd,timeout=30)\r\n",
    "        r.raise_for_status() # If status != 200, cause HTTPError\r\n",
    "        r.encoding=r.apparent_encoding\r\n",
    "        return r\r\n",
    "    except:\r\n",
    "        return \"Error occurred\"\r\n",
    "\r\n",
    "def parseHTML(html,target):\r\n",
    "    print(\"\")\r\n",
    "\r\n",
    "def printList(itemlists):\r\n",
    "    print(\"\")\r\n",
    "\r\n",
    "def mainpro():\r\n",
    "    html=getHTML(url)\r\n",
    "    target=[]\r\n",
    "    itemlists=parseHTML(html,target)\r\n",
    "    printList(itemlists)\r\n",
    "\r\n",
    "url=\"https://search.jd.com/search?keyword=美登高&qrst=1&suggest=2.his.0.0&wq=美登高&stock=1&stock=1&ev=exbrand_美登高%5E&cid3=13603\"\r\n",
    "mainpro()"
   ],
   "outputs": [],
   "metadata": {}
  }
 ]
}