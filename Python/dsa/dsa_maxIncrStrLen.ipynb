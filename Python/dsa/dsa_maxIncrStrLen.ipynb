{
 "cells": [
  {
   "cell_type": "code",
   "execution_count": null,
   "metadata": {},
   "outputs": [],
   "source": [
    "def maxIncrStrLen(a : list, strL : int, b : list):\n",
    "    b[strL - 1] = 1\n",
    "    for i in range(strL - 2, -1, -1):\n",
    "        tmp = 0\n",
    "        for j in range(i + 1, strL):\n",
    "            if a[i] < a[j] and b[j] > tmp:\n",
    "                tmp = b[j]\n",
    "        b[i] = tmp + 1\n",
    "    return max(b)\n",
    "\n",
    "strL = eval(input())\n",
    "numStrIn = list(map(int, input().split()))\n",
    "listTmp = [0] * strL\n",
    "print(maxIncrStrLen(numStrIn, strL, listTmp))"
   ]
  },
  {
   "cell_type": "markdown",
   "metadata": {},
   "source": [
    "testing git;"
   ]
  },
  {
   "cell_type": "code",
   "execution_count": null,
   "metadata": {},
   "outputs": [],
   "source": [
    "'''\n",
    "7\n",
    "1 7 3 5 9 4 8\n",
    "'''"
   ]
  }
 ],
 "metadata": {
  "interpreter": {
   "hash": "4f8763616d36299a7e67065bbff61b4594b946871d4c1b06c8acd4b8a7e0d76f"
  },
  "kernelspec": {
   "display_name": "Python 3.9.6 64-bit",
   "language": "python",
   "name": "python3"
  },
  "language_info": {
   "codemirror_mode": {
    "name": "ipython",
    "version": 3
   },
   "file_extension": ".py",
   "mimetype": "text/x-python",
   "name": "python",
   "nbconvert_exporter": "python",
   "pygments_lexer": "ipython3",
   "version": "3.9.6"
  },
  "orig_nbformat": 4
 },
 "nbformat": 4,
 "nbformat_minor": 2
}
