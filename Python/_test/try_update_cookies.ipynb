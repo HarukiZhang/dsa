{
 "cells": [
  {
   "cell_type": "markdown",
   "metadata": {},
   "source": [
    "记录一种不断跟新cookies的方法：\n",
    "\n",
    "但目前来看并不成功：res_cookies_dic返回为空，而session.get的response是code 200"
   ]
  },
  {
   "cell_type": "code",
   "execution_count": 7,
   "metadata": {},
   "outputs": [],
   "source": [
    "import requests\n",
    "\n",
    "def cookies_ptextToDict(cookies_text:str) -> dict:\n",
    "    cookies = {}\n",
    "    cookies_lst = cookies_text.split('; ')\n",
    "    for item in cookies_lst:\n",
    "        cookie_lst = item.split(\"=\")\n",
    "        cookies[cookie_lst[0]] = cookie_lst[1]\n",
    "    return cookies\n",
    "\n",
    "headers = {\n",
    "    \"User-Agent\":\"Mozilla/5.0 (Windows NT 10.0; Win64; x64) AppleWebKit/537.36 (KHTML, like Gecko) Chrome/94.0.4606.71 Safari/537.36\",\n",
    "}\n",
    "member_url = \"http://openjudge.cn/user/1148994/\"\n",
    "\n",
    "cookies_text = 'PHPSESSID=d8fou7n8a7p9pno38904l9ioov; Hm_lvt_cba6845c6d8176f123f81538e1796b8a=1633402340,1633497958,1633842993,1633878421; Hm_lpvt_cba6845c6d8176f123f81538e1796b8a=1633878427'\n",
    "cookies = cookies_ptextToDict(cookies_text)\n",
    "\n",
    "\n",
    "session = requests.session()\n",
    "session.headers = headers\n",
    "cookiesJar = requests.utils.cookiejar_from_dict(cookies, cookiejar=None,overwrite=True)#将字典转为CookieJar：\n",
    "session.cookies = cookiesJar #将cookiesJar赋值给会话\n",
    "res = session.get(member_url)\n",
    "res_cookies_dic = requests.utils.dict_from_cookiejar(res.cookies) #将CookieJar转为字典：\n"
   ]
  }
 ],
 "metadata": {
  "interpreter": {
   "hash": "4f8763616d36299a7e67065bbff61b4594b946871d4c1b06c8acd4b8a7e0d76f"
  },
  "kernelspec": {
   "display_name": "Python 3.9.6 64-bit",
   "name": "python3"
  },
  "language_info": {
   "codemirror_mode": {
    "name": "ipython",
    "version": 3
   },
   "file_extension": ".py",
   "mimetype": "text/x-python",
   "name": "python",
   "nbconvert_exporter": "python",
   "pygments_lexer": "ipython3",
   "version": "3.9.6"
  },
  "orig_nbformat": 4
 },
 "nbformat": 4,
 "nbformat_minor": 2
}
