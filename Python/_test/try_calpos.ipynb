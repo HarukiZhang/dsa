{
    "cells": [
        {
            "cell_type": "code",
            "execution_count": 1,
            "source": [
                "def calpos():\r\n",
                "    pbd = 0.0004\r\n",
                "    popu = 10000\r\n",
                "    count = 0\r\n",
                "    for i in range(popu):\r\n",
                "        if random.random() <= pbd:\r\n",
                "            count += 1\r\n",
                "    return count"
            ],
            "outputs": [],
            "metadata": {}
        },
        {
            "cell_type": "code",
            "execution_count": 5,
            "source": [
                "import random\r\n",
                "import numpy as np\r\n",
                "ts = 10000\r\n",
                "lst = []\r\n",
                "for k in range(ts):\r\n",
                "    lst.append(calpos())\r\n",
                "mm = np.mean(lst)\r\n",
                "sd = np.std(lst)\r\n",
                "\r\n",
                "print(mm + 2.33*sd)"
            ],
            "outputs": [
                {
                    "output_type": "stream",
                    "name": "stdout",
                    "text": [
                        "8.671039523782454\n"
                    ]
                }
            ],
            "metadata": {}
        }
    ],
    "metadata": {
        "orig_nbformat": 4,
        "language_info": {
            "name": "python",
            "version": "3.9.6",
            "mimetype": "text/x-python",
            "codemirror_mode": {
                "name": "ipython",
                "version": 3
            },
            "pygments_lexer": "ipython3",
            "nbconvert_exporter": "python",
            "file_extension": ".py"
        },
        "kernelspec": {
            "name": "python3",
            "display_name": "Python 3.9.6 64-bit"
        },
        "interpreter": {
            "hash": "4f8763616d36299a7e67065bbff61b4594b946871d4c1b06c8acd4b8a7e0d76f"
        }
    },
    "nbformat": 4,
    "nbformat_minor": 2
}