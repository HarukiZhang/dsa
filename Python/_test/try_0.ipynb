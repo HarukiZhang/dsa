{
 "cells": [
  {
   "cell_type": "code",
   "execution_count": null,
   "metadata": {},
   "outputs": [],
   "source": [
    "class Solution(object):\n",
    "    def maxSubArray(self, nums):\n",
    "        left = 0\n",
    "        right = len(nums)-1\n",
    "        maxSum = self.divide(nums,left,right)\n",
    "        return maxSum\n",
    "        \n",
    "    def divide(self,nums,left,right):\n",
    "        if left==right:\n",
    "            return nums[left]\n",
    "        \n",
    "        center = (left+right)/2\n",
    "\n",
    "        leftMaxSum = self.divide(nums,left,center)\n",
    "        rightMaxSum = self.divide(nums,center+1,right)\n",
    "        \n",
    "        leftBorderSum = nums[center]\n",
    "        leftSum = nums[center]\n",
    "        for i in range(center-1,left-1,-1):\n",
    "            leftSum += nums[i]\n",
    "            if leftSum>leftBorderSum:\n",
    "                leftBorderSum = leftSum\n",
    "        \n",
    "        rightBorderSum = nums[center+1]\n",
    "        rightSum = nums[center+1]\n",
    "        for i in range(center+2,right+1):\n",
    "            rightSum += nums[i]\n",
    "            if rightSum>rightBorderSum:\n",
    "                rightBorderSum = rightSum\n",
    "        \n",
    "        BorderSum = leftBorderSum + rightBorderSum\n",
    "        \n",
    "        return max(leftMaxSum,rightMaxSum,BorderSum)"
   ]
  }
 ],
 "metadata": {
  "interpreter": {
   "hash": "4f8763616d36299a7e67065bbff61b4594b946871d4c1b06c8acd4b8a7e0d76f"
  },
  "kernelspec": {
   "display_name": "Python 3.9.6 64-bit",
   "name": "python3"
  },
  "language_info": {
   "codemirror_mode": {
    "name": "ipython",
    "version": 3
   },
   "file_extension": ".py",
   "mimetype": "text/x-python",
   "name": "python",
   "nbconvert_exporter": "python",
   "pygments_lexer": "ipython3",
   "version": "3.9.6"
  },
  "orig_nbformat": 4
 },
 "nbformat": 4,
 "nbformat_minor": 2
}
