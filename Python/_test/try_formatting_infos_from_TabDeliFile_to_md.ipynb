{
 "metadata": {
  "language_info": {
   "codemirror_mode": {
    "name": "ipython",
    "version": 3
   },
   "file_extension": ".py",
   "mimetype": "text/x-python",
   "name": "python",
   "nbconvert_exporter": "python",
   "pygments_lexer": "ipython3",
   "version": "3.9.6"
  },
  "orig_nbformat": 4,
  "kernelspec": {
   "name": "python3",
   "display_name": "Python 3.9.6 64-bit"
  },
  "interpreter": {
   "hash": "4f8763616d36299a7e67065bbff61b4594b946871d4c1b06c8acd4b8a7e0d76f"
  }
 },
 "nbformat": 4,
 "nbformat_minor": 2,
 "cells": [
  {
   "cell_type": "markdown",
   "source": [
    "### NOTES:\r\n",
    "This module aims to be used in following situation: \r\n",
    "- when a network graph in obsidian is already complete, but still need to append several new records from WoS, then use this module to read records that are directly downloaded from WoS.\r\n",
    "\r\n",
    "### REQUIREMENT:\r\n",
    "- should fit with format of the Tab-Deliminated-File that is directly downloaded from WoS.\r\n",
    "### ***better to be a more general reader for this kind of text***.\r\n",
    "\r\n",
    "### PROBLEM:\r\n",
    "* The records directly from WoS have different column names in several places, relative to HistCite records:\r\n",
    "    - NR == NCR\r\n",
    "    - no: LCS, LCR\r\n",
    "* Notify: it seems like: if the SOURCE name of a record is already a abbreviated form under columns of 'SO', then the 'J9' column of this record would be empty; so when using 'J9', it is better to check for `None`;\r\n",
    "* Waited for solving: the method of use template now is a little bit complicated and unprettified; \r\n",
    "- maybe to use a separate function to process the print;\r\n",
    "- or remove the `usecols` and to read all columns into the dataframe, and call specific element directly using the column name of it.\r\n",
    "### CODES:"
   ],
   "metadata": {}
  },
  {
   "cell_type": "code",
   "execution_count": 1,
   "source": [
    "def formating_from_TabDeliFile_to_md(csv_path: str, use_cols: list, templ:str):\r\n",
    "    '''\r\n",
    "    Usage: extract inforamtion from csv and write to markdown according with the given template;\r\n",
    "\r\n",
    "    :param use_cols: \r\n",
    "        should include all information that you intend to show in the markdown;\r\n",
    "        should always include 'J9', 'CR' and put them in the end of list;\r\n",
    "    \r\n",
    "    Notes: Output path is assigned to: './Project/'\r\n",
    "    '''\r\n",
    "\r\n",
    "    import re\r\n",
    "    import pandas as pd\r\n",
    "\r\n",
    "    dtfm = pd.read_table(\r\n",
    "        csv_path,\r\n",
    "        header=0, index_col=False, usecols=use_cols, keep_default_na=False, encoding='UTF_8'\r\n",
    "    )\r\n",
    "\r\n",
    "    lst_output = []\r\n",
    "    for row in range(dtfm.shape[0]): # single for_loop for all process\r\n",
    "        au = dtfm.loc[row]['AU'].split('; ')[0].replace(',', '')        \r\n",
    "\r\n",
    "        filename = au +', '+ str(dtfm.loc[row]['PY']) +', '+ dtfm.loc[row]['SO'] +'.md'\r\n",
    "\r\n",
    "        templst_1 = []\r\n",
    "        for each_CR in dtfm.loc[row]['CR'].split('; '):\r\n",
    "            temp_CR = re.sub(r'[\\[\\]]+', repl='', string=each_CR)\r\n",
    "            templst_2 = []\r\n",
    "            for part in temp_CR.split(', '):\r\n",
    "                if not re.match(r'^[PV][\\d]*$|^DOI ', part): # ths ver trying to remove DOI in filename & content link\r\n",
    "                    templst_2.append(part)\r\n",
    "            templst_1.append('[[' + ', '.join(templst_2) + ']]')\r\n",
    "        output_CR = '\\n'.join(templst_1)\r\n",
    "        \r\n",
    "        output_UT = dtfm.loc[row]['UT'].replace('WOS:','')\r\n",
    "\r\n",
    "        filecontent = templ.format(\r\n",
    "            dtfm.loc[row][use_cols[0]],       #0\r\n",
    "            dtfm.loc[row][use_cols[1]],       #1\r\n",
    "            dtfm.loc[row][use_cols[2]],       #2\r\n",
    "            dtfm.loc[row][use_cols[3]],       #3\r\n",
    "            dtfm.loc[row][use_cols[4]],       #4\r\n",
    "            dtfm.loc[row][use_cols[5]],       #5\r\n",
    "            dtfm.loc[row][use_cols[6]],       #6\r\n",
    "            dtfm.loc[row][use_cols[7]],       #7\r\n",
    "            dtfm.loc[row][use_cols[8]],       #8\r\n",
    "            output_UT,                        #9\r\n",
    "            str(dtfm.loc[row][use_cols[10]]), #10\r\n",
    "            str(dtfm.loc[row][use_cols[11]]), #11\r\n",
    "            output_CR,                        #12\r\n",
    "        )\r\n",
    "\r\n",
    "        lst_output.append((filename, filecontent))\r\n",
    "    \r\n",
    "    # save files:\r\n",
    "    for i in range(len(lst_output)):\r\n",
    "        with open(f'./Projects/{lst_output[i][0]}', 'xt', encoding='UTF_8') as f:\r\n",
    "            f.write(lst_output[i][1])\r\n",
    "            f.close()\r\n",
    "    # return lst_output, dtfm\r\n",
    "\r\n",
    "def set_tag_to_Bi(authors:str):\r\n",
    "    import re\r\n",
    "\r\n",
    "    lst_au = []\r\n",
    "    for author in authors.split('; '):\r\n",
    "        if re.match(r'B[iI], YC?|B[iI], Yanchao', author):\r\n",
    "            lst_au.append('#BiYC')\r\n",
    "        else:\r\n",
    "            lst_au.append(author)\r\n",
    "    return '; '.join(lst_au)\r\n",
    "\r\n",
    "\r\n",
    "\r\n",
    "'''\r\n",
    "Initiation\r\n",
    "'''\r\n",
    "\r\n",
    "path = 'Data/CiteAnalysisData/Della_2018_TDF.txt'\r\n",
    "#       0     1    2   3    4    5    6    7    8    9    10   11   12   13     \r\n",
    "use = ['TI','AU','PY','DT','SO','AB','DE','ID','DI','UT','NR','TC','CR']\r\n",
    "template = '''---\r\n",
    "Alias: NeuroBasis\r\n",
    "TC: {11}\r\n",
    "---\r\n",
    "#show_on\r\n",
    "**Title**: {0}\r\n",
    "**Authors**: {1}\r\n",
    "**PubYear**: #PY{2}\r\n",
    "**DocType**: #{3}\r\n",
    "**Journal**: {4}\r\n",
    "> **Abstract**:\r\n",
    "> {5}\r\n",
    "\r\n",
    "**AuthKW**: {6}\r\n",
    "**Keywords+**: {7}\r\n",
    "**DOI**: {8}\r\n",
    "**WoS**: {9}\r\n",
    "\r\n",
    "#### CitedRefs: ({10})\r\n",
    "{12}'''\r\n",
    "\r\n",
    "formating_from_TabDeliFile_to_md(csv_path=path, use_cols=use, templ=template)"
   ],
   "outputs": [],
   "metadata": {}
  },
  {
   "cell_type": "code",
   "execution_count": 3,
   "source": [
    "import pandas as pd\r\n",
    "\r\n",
    "use_cols = ['TI','AU','PY','DT','SO','AB','DE','ID','DI','UT','NCR','TC','LCS','LCR','J9','CR']\r\n",
    "csv_path = 'Data/CiteAnalysisData/Della_2018_TDF.txt'\r\n",
    "dtfm = pd.read_table(\r\n",
    "        csv_path,\r\n",
    "        header=0, index_col=False, keep_default_na=False, encoding='UTF_8'\r\n",
    "    )"
   ],
   "outputs": [],
   "metadata": {}
  },
  {
   "cell_type": "code",
   "execution_count": 1,
   "source": [
    "with open('Data/CiteAnalysisData/Della_2018_TDF.txt', 'rt', encoding='utf_8') as f:\r\n",
    "    row_idx = f.readline()\r\n",
    "    f.close()"
   ],
   "outputs": [],
   "metadata": {}
  },
  {
   "cell_type": "code",
   "execution_count": 6,
   "source": [
    "dtfm.loc[:, 'SO']"
   ],
   "outputs": [
    {
     "output_type": "execute_result",
     "data": {
      "text/plain": [
       "0    NEUROIMAGE\n",
       "Name: SO, dtype: object"
      ]
     },
     "metadata": {},
     "execution_count": 6
    }
   ],
   "metadata": {}
  }
 ]
}