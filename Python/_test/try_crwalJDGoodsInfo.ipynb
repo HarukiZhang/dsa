{
 "cells": [
  {
   "cell_type": "code",
   "execution_count": null,
   "source": [
    "# 基本上就是只使用了bs4库的find_all()方法；\r\n",
    "\r\n",
    "from bs4 import BeautifulSoup\r\n",
    "import re\r\n",
    "\r\n",
    "html=open(\"D:\\haruk\\Documents\\PythonCodes\\JDsearch_Meidenggao.html\",encoding=\"utf-8\")\r\n",
    "soup=BeautifulSoup(html,\"html.parser\")\r\n",
    "\r\n",
    "# rc_name=re.compile(\"<em><font class=\\\"skcolor_ljg\\\">.+?</font>.+</em>\")\r\n",
    "# rc_price=re.compile(\"<i data-price=\\\"\\\\d+\\\">\\\\d+\\.\\\\d+</i>\")\r\n",
    "\r\n",
    "# name = soup.find_all(rc_name)\r\n",
    "# price = rc_price.findall(html)\r\n",
    "\r\n",
    "# print(name)"
   ],
   "outputs": [],
   "metadata": {}
  },
  {
   "cell_type": "code",
   "execution_count": null,
   "source": [
    "# rc_price=re.compile(\"<i data-price=\\\"\\\\d+\\\">\\\\d+\\.\\\\d+</i>\")\r\n",
    "\r\n",
    "print(soup(string=re.compile(\"^[0-9]+\\.[0-9]+$\")))"
   ],
   "outputs": [],
   "metadata": {}
  },
  {
   "cell_type": "code",
   "execution_count": null,
   "source": [
    "sfa_price=soup(\"div\",\"p-price\")\r\n",
    "rpt_price_o=re.compile(r'\\d+\\.\\d+')\r\n",
    "rpt_price_d=re.compile(r'￥\\d+\\.\\d+')\r\n",
    "lst=[]\r\n",
    "for i in sfa_price:\r\n",
    "    po=i.find(string=rpt_price_o)\r\n",
    "    pd=i.find(string=rpt_price_d)\r\n",
    "    lst.append([po,pd])\r\n",
    "print(lst)"
   ],
   "outputs": [],
   "metadata": {}
  },
  {
   "cell_type": "code",
   "execution_count": null,
   "source": [
    "sfa_name=soup(\"div\",\"p-name p-name-type-2\")\r\n",
    "lst_name=[]\r\n",
    "for k in sfa_name:\r\n",
    "    lst_name+=[k(string=re.compile(r'.'))]\r\n",
    "print(lst_name)"
   ],
   "outputs": [],
   "metadata": {}
  },
  {
   "cell_type": "code",
   "execution_count": null,
   "source": [
    "newlst=[]\r\n",
    "for n in range(len(lst)):\r\n",
    "    newlst.append(lst_name[n]+lst[n])\r\n",
    "print(newlst)"
   ],
   "outputs": [],
   "metadata": {}
  },
  {
   "cell_type": "code",
   "execution_count": null,
   "source": [
    "sfa_img=soup.find_all(\"data-img=\\\"1\\\"\")"
   ],
   "outputs": [],
   "metadata": {}
  },
  {
   "cell_type": "code",
   "execution_count": null,
   "source": [
    "print(len(soup.find_all(attrs={'data-lazy-img':re.compile(r'.')})))"
   ],
   "outputs": [],
   "metadata": {}
  }
 ],
 "metadata": {
  "orig_nbformat": 4,
  "language_info": {
   "name": "python",
   "version": "3.9.6",
   "mimetype": "text/x-python",
   "codemirror_mode": {
    "name": "ipython",
    "version": 3
   },
   "pygments_lexer": "ipython3",
   "nbconvert_exporter": "python",
   "file_extension": ".py"
  },
  "kernelspec": {
   "name": "python3",
   "display_name": "Python 3.9.6 64-bit"
  },
  "interpreter": {
   "hash": "4f8763616d36299a7e67065bbff61b4594b946871d4c1b06c8acd4b8a7e0d76f"
  }
 },
 "nbformat": 4,
 "nbformat_minor": 2
}