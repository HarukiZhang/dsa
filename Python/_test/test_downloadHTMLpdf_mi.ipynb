{
 "cells": [
  {
   "cell_type": "code",
   "execution_count": 1,
   "source": [
    "from bs4 import BeautifulSoup\r\n",
    "import re\r\n",
    "import requests as rq\r\n",
    "\r\n",
    "def getHTMLtext(url):\r\n",
    "    try:\r\n",
    "        r=rq.get(url,headers={\"user-agent\":\"chrome/10\"},timeout=30)\r\n",
    "        r.raise_for_status() # If status != 200, cause HTTPError\r\n",
    "        r.encoding=r.apparent_encoding\r\n",
    "        return r.text\r\n",
    "    except:\r\n",
    "        return \"Error occurred\""
   ],
   "outputs": [],
   "metadata": {}
  },
  {
   "cell_type": "code",
   "execution_count": 2,
   "source": [
    "def name_p_has_no_strong_child(tag):\r\n",
    "    if tag.name==\"p\" and tag.has_attr('class') and not tag.contents[0].name==\"strong\" and not tag.has_attr('align'):\r\n",
    "        return True"
   ],
   "outputs": [],
   "metadata": {}
  },
  {
   "cell_type": "code",
   "execution_count": 3,
   "source": [
    "def formatingLists(soup_findall_lst):\r\n",
    "    reslst=[]\r\n",
    "    imlst=[]\r\n",
    "    for i in soup_findall_lst:\r\n",
    "        if not i.a == None:\r\n",
    "            hpath = i.a.attrs['href']\r\n",
    "        else:\r\n",
    "            hpath = None\r\n",
    "        if len(i) == None or len(i) == 1:\r\n",
    "            fname=i.string\r\n",
    "        else:\r\n",
    "            for k in i.strings:\r\n",
    "                imlst.append(k)\r\n",
    "            imstr=\".\".join(imlst).replace(' ','').replace(chr(12288),'').replace('/','').replace('\\\\','')\r\n",
    "            if imstr.endswith('.pdf'):\r\n",
    "                fname=imstr\r\n",
    "            else:\r\n",
    "                fname=imstr+'.pdf'\r\n",
    "            imlst=[]\r\n",
    "        reslst.append([fname,hpath])\r\n",
    "    return reslst\r\n",
    "\r\n",
    "# consider more efficiently truncate the filename or have to find strings in hpath!"
   ],
   "outputs": [],
   "metadata": {}
  },
  {
   "cell_type": "code",
   "execution_count": 4,
   "source": [
    "def findDownloadPath(lst):\r\n",
    "    hp='http://bilab.bnu.edu.cn/'\r\n",
    "    root='D:/haruk/Documents/PythonCodes/pdf_dl/'\r\n",
    "    durl=hp+lst[1]\r\n",
    "    dpath=root+lst[0]\r\n",
    "    return [durl,dpath]"
   ],
   "outputs": [],
   "metadata": {}
  },
  {
   "cell_type": "code",
   "execution_count": 5,
   "source": [
    "def getPDFdown(url,path):\r\n",
    "    try:\r\n",
    "        html=rq.get(url,headers={\"user-agent\":\"chrome/10\"},timeout=30)\r\n",
    "        html.raise_for_status() # If status != 200, cause HTTPError\r\n",
    "        with open(path,\"wb\") as f:\r\n",
    "            for chunk in html.iter_content(chunk_size=8192):\r\n",
    "                f.write(chunk)\r\n",
    "            f.close()\r\n",
    "    except:\r\n",
    "        return \"Error occurred\""
   ],
   "outputs": [],
   "metadata": {}
  },
  {
   "cell_type": "code",
   "execution_count": 6,
   "source": [
    "def main():\r\n",
    "    url=\"http://bilab.bnu.edu.cn/publication.html\"\r\n",
    "    html=getHTMLtext(url)\r\n",
    "    \r\n",
    "    soup=BeautifulSoup(html,\"html.parser\")\r\n",
    "    \r\n",
    "    sfa_lst=soup(name_p_has_no_strong_child)\r\n",
    "    print(\"Please check for the length of Soup_find_all lists is now: {}\".format(len(sfa_lst)))\r\n",
    "\r\n",
    "    comparLsts=formatingLists(sfa_lst)\r\n",
    "    \r\n",
    "    # Initiating download:\r\n",
    "    itrial=0\r\n",
    "    for ls in comparLsts[:6]:\r\n",
    "        try:\r\n",
    "            [durl,dpath]=findDownloadPath(ls)\r\n",
    "            getPDFdown(durl,dpath)\r\n",
    "            itrial+=1\r\n",
    "            print(\"PDF file No.{} download success!\".format(itrial))\r\n",
    "        except:\r\n",
    "            print(\"Error occurred at Comparison Table No.:{}\".format(itrial))\r\n",
    "            continue\r\n",
    "\r\n",
    "# For now, only download the first 5 files!\r\n",
    "main()\r\n",
    "\r\n",
    "# need to dubug: how to truncate a valid file name for downloading?! \r\n",
    "# maybe should check for valid within function: findDownloadPath  rather than formattingLists"
   ],
   "outputs": [
    {
     "output_type": "stream",
     "name": "stdout",
     "text": [
      "Please check for the length of Soup_find_all lists is now: 104\n",
      "Error occurred at Comparison Table No.:0\n",
      "PDF file No.1 download success!\n",
      "PDF file No.2 download success!\n",
      "PDF file No.3 download success!\n",
      "PDF file No.4 download success!\n",
      "PDF file No.5 download success!\n"
     ]
    }
   ],
   "metadata": {}
  }
 ],
 "metadata": {
  "orig_nbformat": 4,
  "language_info": {
   "name": "python",
   "version": "3.9.6",
   "mimetype": "text/x-python",
   "codemirror_mode": {
    "name": "ipython",
    "version": 3
   },
   "pygments_lexer": "ipython3",
   "nbconvert_exporter": "python",
   "file_extension": ".py"
  },
  "kernelspec": {
   "name": "python3",
   "display_name": "Python 3.9.6 64-bit"
  },
  "interpreter": {
   "hash": "4f8763616d36299a7e67065bbff61b4594b946871d4c1b06c8acd4b8a7e0d76f"
  }
 },
 "nbformat": 4,
 "nbformat_minor": 2
}