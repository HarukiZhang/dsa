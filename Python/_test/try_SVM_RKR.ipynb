{
    "cells": [
        {
            "cell_type": "code",
            "execution_count": null,
            "source": [
                "import pandas\r\n",
                "import numpy as np"
            ],
            "outputs": [],
            "metadata": {}
        },
        {
            "cell_type": "code",
            "execution_count": 5,
            "source": [
                "names = ['wk_file','wk_rank','wr_file','wr_rank','bk_file','bk_rank','prospects']\r\n",
                "data = pandas.read_csv('E:/Downloads/Datasets/krkopt.csv',encoding='utf-8',sep=',',names=names)"
            ],
            "outputs": [],
            "metadata": {}
        },
        {
            "cell_type": "code",
            "execution_count": 18,
            "source": [
                "replace_dict1 = {'a':1,'b':2,'c':3,'d':4,'e':5,'f':6,'g':7,'h':8}\r\n",
                "replace_dict2 = {}\r\n",
                "chkset = set(data['prospects'])\r\n",
                "for name in chkset:\r\n",
                "    replace_dict2[name] = -1\r\n",
                "replace_dict2['draw'] = 1\r\n",
                "replace_dict = {**replace_dict2, **replace_dict1}\r\n",
                "wd_data = data.replace(to_replace=replace_dict)\r\n",
                "label_lst = wd_data['prospects']\r\n",
                "feature_lst = wd_data.iloc[:,0:-1]"
            ],
            "outputs": [],
            "metadata": {}
        },
        {
            "cell_type": "code",
            "execution_count": 27,
            "source": [
                "def kernelRBF(x, y, sig):\r\n",
                "    return np.exp(-np.linalg.norm(x-y)**2 / 2 / sig**2)"
            ],
            "outputs": [],
            "metadata": {}
        }
    ],
    "metadata": {
        "orig_nbformat": 4,
        "language_info": {
            "name": "python",
            "version": "3.9.6",
            "mimetype": "text/x-python",
            "codemirror_mode": {
                "name": "ipython",
                "version": 3
            },
            "pygments_lexer": "ipython3",
            "nbconvert_exporter": "python",
            "file_extension": ".py"
        },
        "kernelspec": {
            "name": "python3",
            "display_name": "Python 3.9.6 64-bit"
        },
        "interpreter": {
            "hash": "4f8763616d36299a7e67065bbff61b4594b946871d4c1b06c8acd4b8a7e0d76f"
        }
    },
    "nbformat": 4,
    "nbformat_minor": 2
}