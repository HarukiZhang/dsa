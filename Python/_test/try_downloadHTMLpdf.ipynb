{
 "cells": [
  {
   "cell_type": "code",
   "execution_count": null,
   "source": [
    "from bs4 import BeautifulSoup\r\n",
    "import re\r\n",
    "import requests as rq\r\n",
    "\r\n",
    "def getHTMLtext(url):\r\n",
    "    try:\r\n",
    "        r=rq.get(url,headers={\"user-agent\":\"chrome/10\"},timeout=30)\r\n",
    "        r.raise_for_status() # If status != 200, cause HTTPError\r\n",
    "        r.encoding=r.apparent_encoding\r\n",
    "        return r.text\r\n",
    "    except:\r\n",
    "        return \"Error occurred\""
   ],
   "outputs": [],
   "metadata": {}
  },
  {
   "cell_type": "code",
   "execution_count": null,
   "source": [
    "def name_p_has_no_strong_child(tag):\r\n",
    "    if tag.name==\"p\" and tag.has_attr('class') and not tag.contents[0].name==\"strong\" and not tag.has_attr('align'):\r\n",
    "        return True"
   ],
   "outputs": [],
   "metadata": {}
  },
  {
   "cell_type": "code",
   "execution_count": null,
   "source": [
    "def formatingLists(soup_findall_lst):\r\n",
    "    reslst=[]\r\n",
    "    imlst=[]\r\n",
    "    try:\r\n",
    "        for i in soup_findall_lst:\r\n",
    "            if not i.a == None:\r\n",
    "                hpath = i.a.attrs['href']\r\n",
    "            else:\r\n",
    "                hpath = None\r\n",
    "            if len(i) == None or len(i) == 1:\r\n",
    "                fname=i.string\r\n",
    "            else:\r\n",
    "                for k in i.strings:\r\n",
    "                    imlst.append(k)\r\n",
    "                imstr=\".\".join(imlst).replace(' ','').replace('/','').replace('\\\\','')\r\n",
    "                if imstr.endswith('.pdf'):\r\n",
    "                    fname=imstr\r\n",
    "                else:\r\n",
    "                    fname=imstr+'.pdf'\r\n",
    "                imlst=[]\r\n",
    "            reslst.append(fname,hpath)\r\n",
    "            return reslst\r\n",
    "    except:\r\n",
    "        print(\"Lists Formating Error\")"
   ],
   "outputs": [],
   "metadata": {}
  },
  {
   "cell_type": "code",
   "execution_count": null,
   "source": [
    "# for m in reslst:\r\n",
    "#     if isinstance(m[0],list):\r\n",
    "#         imstr=\".\".join(m[0]).replace(' ','').replace('/','').replace('\\\\','')\r\n",
    "#         if imstr.endswith('.pdf'):\r\n",
    "#             m.append(imstr)\r\n",
    "#         else:\r\n",
    "#             m.append(imstr+'.pdf')\r\n",
    "#     else:\r\n",
    "#         m.append(None)\r\n",
    "\r\n",
    "# # reslst now in its colunm 2 has a valid file name for download;"
   ],
   "outputs": [],
   "metadata": {}
  },
  {
   "cell_type": "code",
   "execution_count": null,
   "source": [
    "def findDownloadPath(lst):\r\n",
    "    hp='http://bilab.bnu.edu.cn/'\r\n",
    "    root='D:/haruk/Documents/PythonCodes/'\r\n",
    "    durl=hp+lst[1]\r\n",
    "    dpath=root+lst[2]\r\n",
    "    return [durl,dpath]"
   ],
   "outputs": [],
   "metadata": {}
  },
  {
   "cell_type": "code",
   "execution_count": null,
   "source": [
    "def getPDFdown(url,path):\r\n",
    "    try:\r\n",
    "        html=rq.get(url,headers={\"user-agent\":\"chrome/10\"},timeout=30)\r\n",
    "        html.raise_for_status() # If status != 200, cause HTTPError\r\n",
    "        with open(path,\"x\") as f:\r\n",
    "            f.write(html.content)\r\n",
    "            f.close()\r\n",
    "    except:\r\n",
    "        return \"Error occurred\""
   ],
   "outputs": [],
   "metadata": {}
  },
  {
   "cell_type": "code",
   "execution_count": null,
   "source": [
    "# use above function to process:\r\n",
    "def mainprocess():\r\n",
    "    url=\"http://bilab.bnu.edu.cn/publication.html\"\r\n",
    "    html=getHTMLtext(url)\r\n",
    "    \r\n",
    "    soup=BeautifulSoup(html,\"html.parser\")\r\n",
    "    \r\n",
    "    sfa_lst=soup(name_p_has_no_strong_child)\r\n",
    "    print(\"Please check for the length of Soup_find_all lists is now: {}\".format(len(sfa_lst)))\r\n",
    "\r\n",
    "    comparLsts=formatingLists(sfa_lst)\r\n",
    "    \r\n",
    "    # Initiating download:\r\n",
    "    itrial=0\r\n",
    "    for ls in comparLsts:\r\n",
    "        try:\r\n",
    "            [durl,dpath]=findDownloadPath(ls)\r\n",
    "            getPDFdown(durl,dpath)\r\n",
    "            itrial+=1\r\n",
    "        except:\r\n",
    "            print(\"Error occurred at Comparison Table No.:{}\".format(itrial))\r\n",
    "            continue\r\n",
    "\r\n",
    "mainprocess()"
   ],
   "outputs": [],
   "metadata": {}
  }
 ],
 "metadata": {
  "orig_nbformat": 4,
  "language_info": {
   "name": "python",
   "version": "3.9.6",
   "mimetype": "text/x-python",
   "codemirror_mode": {
    "name": "ipython",
    "version": 3
   },
   "pygments_lexer": "ipython3",
   "nbconvert_exporter": "python",
   "file_extension": ".py"
  },
  "kernelspec": {
   "name": "python3",
   "display_name": "Python 3.9.6 64-bit"
  },
  "interpreter": {
   "hash": "4f8763616d36299a7e67065bbff61b4594b946871d4c1b06c8acd4b8a7e0d76f"
  }
 },
 "nbformat": 4,
 "nbformat_minor": 2
}