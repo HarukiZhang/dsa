{
    "cells": [
        {
            "cell_type": "markdown",
            "source": [
                "# 表单格式：\r\n",
                "|交案日/提交日|账单日期|账单号|我方案号|提成项目|代理费|计提基数|提成比例|提成金额|备注|\r\n",
                "|-|-|-|-|-|-|-|-|-|-|\r\n",
                "|2018.11.01|2018.11.01|1810100|PT181233-235|协办人|$660|¥4,593.60|1%|¥45.94|\"SMKY All for kids!\"商标转让提交x3|\r\n",
                "\r\n",
                "# 制作思路：\r\n",
                "## 1）从案件表里读取信息\r\n",
                "#### 问题：\r\n",
                "    案件表里没有关于账单的信息；\r\n",
                "#### need_cols::\r\n",
                "    交案日/提交日\t账单日期\t账单号\t我方案号\t提成项目\t 代理费 \t 计提基数 \t提成比例\t 提成金额 \t备注\r\n",
                "    主办人\t协办人\t审核人\r\n",
                "## 2）直接从单个账单里读取：\r\n",
                "优势：提成表row就是根据账单为单位的；\r\n"
            ],
            "metadata": {}
        },
        {
            "cell_type": "code",
            "execution_count": 15,
            "source": [
                "import pandas as pd\r\n",
                "path = 'E:/Downloads/Datasets/Convertor/18年案件表.xlsx'\r\n",
                "use_cols = ['本所案号','申请日','案件类型','主办人','协办人','审核人','商标名称']\r\n",
                "casetable = pd.read_excel(path, index_col=1, usecols=use_cols, keep_default_na=False)\r\n",
                "casetable = casetable.reindex(columns=['申请日','商标名称','案件类型','主办人','协办人','审核人'])"
            ],
            "outputs": [],
            "metadata": {}
        },
        {
            "cell_type": "code",
            "execution_count": 20,
            "source": [
                "mycases = casetable[casetable['协办人']=='张春晖']"
            ],
            "outputs": [],
            "metadata": {}
        },
        {
            "cell_type": "code",
            "execution_count": 27,
            "source": [
                "debit_sheet = pd.DataFrame(columns=['交案日/提交日','账单日期','账单号','我方案号','提成项目','代理费','计提基数','提成比例','提成金额','备注'])"
            ],
            "outputs": [],
            "metadata": {}
        },
        {
            "cell_type": "code",
            "execution_count": 26,
            "source": [
                "debit_sheet['交案日/提交日'] = mycases['申请日']\r\n",
                "debit_sheet['我方案号'] = list(mycases.index)\r\n",
                "debit_sheet['提成项目'] = \r\n"
            ],
            "outputs": [],
            "metadata": {}
        }
    ],
    "metadata": {
        "orig_nbformat": 4,
        "language_info": {
            "name": "python",
            "version": "3.9.6",
            "mimetype": "text/x-python",
            "codemirror_mode": {
                "name": "ipython",
                "version": 3
            },
            "pygments_lexer": "ipython3",
            "nbconvert_exporter": "python",
            "file_extension": ".py"
        },
        "kernelspec": {
            "name": "python3",
            "display_name": "Python 3.9.6 64-bit"
        },
        "interpreter": {
            "hash": "4f8763616d36299a7e67065bbff61b4594b946871d4c1b06c8acd4b8a7e0d76f"
        }
    },
    "nbformat": 4,
    "nbformat_minor": 2
}